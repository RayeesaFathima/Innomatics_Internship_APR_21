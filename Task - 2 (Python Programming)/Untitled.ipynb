{
 "cells": [
  {
   "cell_type": "code",
   "execution_count": 1,
   "id": "541189fb",
   "metadata": {},
   "outputs": [
    {
     "name": "stdout",
     "output_type": "stream",
     "text": [
      "1\n",
      "0\n",
      "1\n",
      "2\n",
      "[[0, 0, 0], [0, 0, 1], [1, 0, 0]]\n"
     ]
    }
   ],
   "source": [
    "#question 1\n",
    "if __name__ == '__main__':\n",
    "    x = int(input())\n",
    "    y = int(input())\n",
    "    z = int(input())\n",
    "    n = int(input())\n",
    "    \n",
    "a_list=[]    \n",
    "for i in range(x + 1):\n",
    "   for j in range(y + 1):\n",
    "        for k in range(z + 1):\n",
    "            if i + j + k != n:\n",
    "               a_list.append([i,j,k])\n",
    "print(a_list)"
   ]
  },
  {
   "cell_type": "code",
   "execution_count": 7,
   "id": "6ff2a20f",
   "metadata": {
    "scrolled": true
   },
   "outputs": [
    {
     "name": "stdout",
     "output_type": "stream",
     "text": [
      "5\n",
      "2 3 3 6 5\n",
      "5\n"
     ]
    }
   ],
   "source": [
    "#question 2\n",
    "if __name__ == '__main__':\n",
    "    n = int(input())\n",
    "    arr = map(int, input().split())\n",
    "print (sorted(set(list(arr)))[-2])"
   ]
  },
  {
   "cell_type": "code",
   "execution_count": 9,
   "id": "7b3adb54",
   "metadata": {},
   "outputs": [
    {
     "name": "stdout",
     "output_type": "stream",
     "text": [
      "2\n",
      "jay 51 55 17\n",
      "vinay 45 25 26\n",
      "jay\n",
      "41.00\n"
     ]
    }
   ],
   "source": [
    "#question 3\n",
    "if __name__ == '__main__':\n",
    "    n = int(input())\n",
    "    student_marks = {}\n",
    "    \n",
    "    for _ in range(n):\n",
    "        name, *line = input().split()\n",
    "        scores = list(map(float, line))\n",
    "        student_marks[name] = scores\n",
    "    query_name = input()\n",
    "    total = student_marks[query_name]\n",
    "    average = sum(total) / len(total)\n",
    "    print(format(average,'.2f'))\n",
    "    "
   ]
  },
  {
   "cell_type": "code",
   "execution_count": 1,
   "id": "3850c4f6",
   "metadata": {},
   "outputs": [
    {
     "name": "stdout",
     "output_type": "stream",
     "text": [
      "12\n",
      "insert 0 5\n",
      "insert 1 10\n",
      "insert 0 6\n",
      "print\n",
      "[6, 5, 10]\n",
      "remove 6\n",
      "append 9\n",
      "append 1\n",
      "sort\n",
      "print\n",
      "[1, 5, 9, 10]\n",
      "pop\n",
      "reverse\n",
      "print\n",
      "[9, 5, 1]\n"
     ]
    }
   ],
   "source": [
    "#question 4\n",
    "if __name__ == '__main__':\n",
    "    N = int(input())\n",
    "    alist = []\n",
    "\n",
    "for i in range(N):\n",
    "    command = input().split()\n",
    "    c = command\n",
    "    if c[0] == 'insert':\n",
    "        alist.insert(int(c[1]),int(c[2]))\n",
    "    elif c[0] == 'append':\n",
    "        alist.append(int(c[1]))\n",
    "    elif c[0] == 'pop':\n",
    "        alist.pop()\n",
    "    elif c[0]=='print':\n",
    "        print(alist)\n",
    "    elif c[0]=='remove':\n",
    "        alist.remove(int(c[1]))\n",
    "    elif c[0]=='sort':\n",
    "        alist.sort()\n",
    "    else:\n",
    "        alist.reverse()"
   ]
  },
  {
   "cell_type": "code",
   "execution_count": 2,
   "id": "01bfe151",
   "metadata": {},
   "outputs": [
    {
     "name": "stdout",
     "output_type": "stream",
     "text": [
      "2\n",
      "1 2\n",
      "-3550055125485641917\n"
     ]
    }
   ],
   "source": [
    "#question 5\n",
    "if __name__ == '__main__':\n",
    "    n = int(input())\n",
    "    integer_list = map(int, input().split())\n",
    "atuple = tuple(int(i) for i in integer_list)\n",
    "print(hash(atuple))"
   ]
  },
  {
   "cell_type": "code",
   "execution_count": 2,
   "id": "2e4c3ae5",
   "metadata": {},
   "outputs": [
    {
     "name": "stdout",
     "output_type": "stream",
     "text": [
      "10\n",
      "167 182 161 154 176 170 167 171 170 174\n",
      "169.375\n"
     ]
    }
   ],
   "source": [
    "#question 6\n",
    "def average(array):\n",
    "    average = sum(set(array)) / len(set(array))\n",
    "    return average\n",
    "if __name__ == '__main__':\n",
    "    n = int(input())\n",
    "    arr = list(map(int, input().split()))\n",
    "    result = average(arr)\n",
    "    print(result)"
   ]
  },
  {
   "cell_type": "code",
   "execution_count": 3,
   "id": "d61daf26",
   "metadata": {},
   "outputs": [
    {
     "name": "stdout",
     "output_type": "stream",
     "text": [
      "3 2\n",
      "1 5 3\n",
      "3 1\n",
      "5 7\n",
      "1\n"
     ]
    }
   ],
   "source": [
    "#question 7\n",
    "n,m = input().split()\n",
    "arr = input().split()\n",
    "A = set(input().split())\n",
    "B = set(input().split())\n",
    "happiness = (sum((i in A) - (i in B) for i in arr))\n",
    "print (happiness)\n",
    "\n"
   ]
  },
  {
   "cell_type": "code",
   "execution_count": 4,
   "id": "e51b1c41",
   "metadata": {},
   "outputs": [
    {
     "name": "stdout",
     "output_type": "stream",
     "text": [
      "4\n",
      "2 4 5 9\n",
      "4\n",
      "2 4 11 12\n",
      "5\n",
      "9\n",
      "11\n",
      "12\n"
     ]
    }
   ],
   "source": [
    "#question 8\n",
    "M = int(input())\n",
    "m = set(map(int,input().split()))\n",
    "N = int(input())\n",
    "n = set(map(int,input().split()))\n",
    "\n",
    "a = sorted(m.symmetric_difference(n))\n",
    "\n",
    "for i in a:\n",
    "    print(i)"
   ]
  },
  {
   "cell_type": "code",
   "execution_count": 5,
   "id": "9302fe91",
   "metadata": {},
   "outputs": [
    {
     "name": "stdout",
     "output_type": "stream",
     "text": [
      "7\n",
      "UK\n",
      "CHINA\n",
      "USA\n",
      "FRANCE\n",
      "NEW ZEALAND\n",
      "UK\n",
      "FRANCE\n",
      "5\n"
     ]
    }
   ],
   "source": [
    "#question 9\n",
    "N = int(input())\n",
    "s = set()\n",
    "for i in range(N):\n",
    "    s.add(input())\n",
    "print(len(s))\n"
   ]
  },
  {
   "cell_type": "code",
   "execution_count": 6,
   "id": "cad7cdb9",
   "metadata": {},
   "outputs": [
    {
     "name": "stdout",
     "output_type": "stream",
     "text": [
      "9\n",
      "1 2 3 4 5 6 7 8 9\n",
      "10 \n",
      "pop\n",
      "remove 9\n",
      "discard 9\n",
      "discard 8\n",
      "remove 7\n",
      "pop\n",
      "discard 6\n",
      "remove 5\n",
      "pop\n",
      "discard 5\n",
      "4\n"
     ]
    }
   ],
   "source": [
    "#question 10\n",
    "n = int(input())\n",
    "s = set(map(int, input().split()))\n",
    "for i in range(int(input())):\n",
    "    command =  input().split()\n",
    "    if command[0] == 'pop':\n",
    "        s.pop()\n",
    "    elif command[0] == 'remove':\n",
    "        s.remove(int(command[1]))\n",
    "    elif command[0] == 'discard':\n",
    "        s.discard(int(command[1]))\n",
    "print(sum(s))\n"
   ]
  },
  {
   "cell_type": "code",
   "execution_count": 8,
   "id": "92f9a4d8",
   "metadata": {},
   "outputs": [
    {
     "name": "stdout",
     "output_type": "stream",
     "text": [
      "9\n",
      "1 2 3 4 5 6 7 8 9\n",
      "9\n",
      "10 1 2 3 11 21 55 6 8\n",
      "13\n"
     ]
    }
   ],
   "source": [
    "#question 11\n",
    "n = int(input())\n",
    "a = set(map(int,input().split()))\n",
    "b = int(input())\n",
    "m = set(map(int,input().split()))\n",
    "\n",
    "s = sorted(a|m)\n",
    "\n",
    "print(len(s))"
   ]
  },
  {
   "cell_type": "code",
   "execution_count": 9,
   "id": "f13b6c67",
   "metadata": {},
   "outputs": [
    {
     "name": "stdout",
     "output_type": "stream",
     "text": [
      "9 \n",
      "1 2 3 4 5 6 7 8 9\n",
      "9 \n",
      "10 1 2 3 11 21 55 6 8 \n",
      "5\n"
     ]
    }
   ],
   "source": [
    "#question 12\n",
    "n = int(input())\n",
    "a = set(map(int,input().split()))\n",
    "b = int(input())\n",
    "m = set(map(int,input().split()))\n",
    "\n",
    "s = sorted(a&m)\n",
    "\n",
    "print(len(s))"
   ]
  },
  {
   "cell_type": "code",
   "execution_count": 10,
   "id": "2421c1c5",
   "metadata": {},
   "outputs": [
    {
     "name": "stdout",
     "output_type": "stream",
     "text": [
      "9\n",
      "1 2 3 4 5 6 7 8 9\n",
      "9 \n",
      "10 1 2 3 11 21 55 6 8\n",
      "4\n"
     ]
    }
   ],
   "source": [
    "#question 13\n",
    "n = int(input())\n",
    "a = set(map(int,input().split()))\n",
    "b = int(input())\n",
    "m = set(map(int,input().split()))\n",
    "\n",
    "s = sorted(a-m)\n",
    "\n",
    "print(len(s))"
   ]
  },
  {
   "cell_type": "code",
   "execution_count": 11,
   "id": "4192fcfe",
   "metadata": {},
   "outputs": [
    {
     "name": "stdout",
     "output_type": "stream",
     "text": [
      "9\n",
      "1 2 3 4 5 6 7 8 9\n",
      "9 \n",
      "10 1 2 3 11 21 55 6 8\n",
      "8\n"
     ]
    }
   ],
   "source": [
    "#question 14\n",
    "n = int(input())\n",
    "a = set(map(int,input().split()))\n",
    "b = int(input())\n",
    "m = set(map(int,input().split()))\n",
    "\n",
    "s = sorted(a^m)\n",
    "\n",
    "print(len(s))"
   ]
  },
  {
   "cell_type": "code",
   "execution_count": 12,
   "id": "bb4bc2e9",
   "metadata": {},
   "outputs": [
    {
     "name": "stdout",
     "output_type": "stream",
     "text": [
      "16\n",
      "1 2 3 4 5 6 7 8 9 10 11 12 13 14 24 52\n",
      "4\n",
      "intersection_update 10\n",
      "2 3 5 6 8 9 1 4 7 11\n",
      "update 2\n",
      "55 66\n",
      "symmetric_difference_update 5\n",
      "22 7 35 62 58\n",
      "difference_update 7\n",
      "11 22 35 55 58 62 66\n",
      "38\n"
     ]
    }
   ],
   "source": [
    "#question 15\n",
    "\n",
    "A = int(input())\n",
    "a = set(map(int, input().split()))\n",
    "N = int(input())\n",
    "\n",
    "for i in range(N):\n",
    "    comm,_ = input().split()\n",
    "    s = set(map(int, input().split()))\n",
    "    if(comm == \"intersection_update\"):\n",
    "        a.intersection_update(s)\n",
    "    elif(comm == \"update\"):\n",
    "        a.update(s)\n",
    "    elif(comm == \"symmetric_difference_update\"):\n",
    "        a.symmetric_difference_update(s)\n",
    "    elif(comm == \"difference_update\"):\n",
    "        a.difference_update(s)\n",
    "\n",
    "print(sum(a))\n",
    "    "
   ]
  },
  {
   "cell_type": "code",
   "execution_count": 13,
   "id": "23c2205b",
   "metadata": {},
   "outputs": [
    {
     "name": "stdout",
     "output_type": "stream",
     "text": [
      "5\n",
      "1 2 3 6 5 4 4 2 5 3 6 1 6 5 3 2 4 1 2 5 1 4 3 6 8 4 3 1 5 6 2\n",
      "8\n"
     ]
    }
   ],
   "source": [
    "#question 16\n",
    "K = input()\n",
    "families = list(map(int, input().split()))\n",
    "rooms = set(families)\n",
    "for room in rooms:\n",
    "    families.remove(room)\n",
    "    if room not in families:\n",
    "        print(room)\n",
    "        break"
   ]
  },
  {
   "cell_type": "code",
   "execution_count": 14,
   "id": "5be32caf",
   "metadata": {},
   "outputs": [
    {
     "name": "stdout",
     "output_type": "stream",
     "text": [
      "3\n",
      "5\n",
      "1 2 3 5 6\n",
      "9\n",
      "9 8 5 6 3 2 1 4 7\n",
      "True\n",
      "1\n",
      "2\n",
      "5\n",
      "3 6 5 4 1\n",
      "False\n",
      "7 \n",
      "1 2 3 5 6 8 9\n",
      "3 \n",
      "9 8 2\n",
      "False\n"
     ]
    }
   ],
   "source": [
    "#question 17\n",
    "N = int(input())\n",
    "for i in range(N):\n",
    "    A = int(input())\n",
    "    a = set(map(int, input().split()))\n",
    "    B = int(input())\n",
    "    b = set(map(int, input().split()))\n",
    "\n",
    "    print(a.issubset(b))\n"
   ]
  },
  {
   "cell_type": "code",
   "execution_count": 15,
   "id": "3bce16a5",
   "metadata": {},
   "outputs": [
    {
     "name": "stdout",
     "output_type": "stream",
     "text": [
      "1 2 3 4 5 6 7 8 9 10 11 12 23 45 84 78\n",
      "2\n",
      "1 2 3 4 5\n",
      "100 11 12\n",
      "False\n"
     ]
    }
   ],
   "source": [
    "#question 18\n",
    "A = set(input().split())\n",
    "n = int(input())\n",
    "print(all([A.issuperset(set(input().split())) \n",
    "for _ in range(n)]))"
   ]
  },
  {
   "cell_type": "code",
   "execution_count": 16,
   "id": "c145082e",
   "metadata": {},
   "outputs": [
    {
     "name": "stdout",
     "output_type": "stream",
     "text": [
      "5\n",
      "Harry\n",
      "37.21\n",
      "Berry\n",
      "37.21\n",
      "Tina\n",
      "37.2\n",
      "Akriti\n",
      "41\n",
      "Harsh\n",
      "39\n",
      "Berry\n",
      "Harry\n"
     ]
    }
   ],
   "source": [
    "#question 19\n",
    "\n",
    "list2=[]\n",
    "for _ in range(int(input())):\n",
    "    name = input()\n",
    "    score = float(input())\n",
    "    list1=[]\n",
    "    list1.append(name)\n",
    "    list1.append(score)\n",
    "    list2.append(list1)\n",
    "second_highest = sorted(set([i[1] for i in list2]))[1]\n",
    "print(\"\\n\".join(sorted([i[0] for i in list2 if i[1] == second_highest])))\n"
   ]
  },
  {
   "cell_type": "code",
   "execution_count": null,
   "id": "12d92516",
   "metadata": {},
   "outputs": [],
   "source": []
  }
 ],
 "metadata": {
  "kernelspec": {
   "display_name": "Python 3",
   "language": "python",
   "name": "python3"
  },
  "language_info": {
   "codemirror_mode": {
    "name": "ipython",
    "version": 3
   },
   "file_extension": ".py",
   "mimetype": "text/x-python",
   "name": "python",
   "nbconvert_exporter": "python",
   "pygments_lexer": "ipython3",
   "version": "3.9.4"
  }
 },
 "nbformat": 4,
 "nbformat_minor": 5
}
