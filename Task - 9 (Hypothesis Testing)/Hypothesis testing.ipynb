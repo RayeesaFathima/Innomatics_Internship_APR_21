{
 "cells": [
  {
   "cell_type": "markdown",
   "id": "59f0ac17",
   "metadata": {},
   "source": [
    "# Hypothesis Testing:\n",
    "\n",
    "**Hypothesis testing in statistics is a way for you to test the results of a survey or experiment to see if you have meaningful results.**\n"
   ]
  },
  {
   "cell_type": "code",
   "execution_count": 46,
   "id": "fc3b714f",
   "metadata": {},
   "outputs": [],
   "source": [
    "import matplotlib.pyplot as plt\n",
    "import numpy as np\n",
    "from scipy.stats import norm\n",
    "from scipy.stats import t"
   ]
  },
  {
   "cell_type": "code",
   "execution_count": 63,
   "id": "adf97235",
   "metadata": {},
   "outputs": [],
   "source": [
    "import warnings\n",
    "warnings.filterwarnings('ignore')"
   ]
  },
  {
   "cell_type": "code",
   "execution_count": 47,
   "id": "b004083c",
   "metadata": {},
   "outputs": [],
   "source": [
    "# t_score for sampling distributions\n",
    "def t_score(sample_size, sample_mean, pop_mean, sample_std):\n",
    "    numerator = sample_mean - pop_mean\n",
    "    denomenator = sample_std / sample_size**0.5\n",
    "    return numerator / denomenator\n"
   ]
  },
  {
   "cell_type": "markdown",
   "id": "d6b085f2",
   "metadata": {},
   "source": [
    "# Problems:\n",
    "**Q-1: Pista House selling Hyderabadi Chicken Dum biryani claims that each parcel packet has 500 grams of biryani (also mentioned on the label of packet). You are sceptic of their claims and believe that on average each packet does not contain 500 grams of biryani. How do you prove your claim? ~~(Given that the population std is 50)~~**\n",
    "\n",
    "Step - 1:\n",
    "Alternate Hypothesis (Bold claim):\n",
    "\n",
    "$$ H_1: \\mu \\neq 500 $$\n",
    "\n",
    "Null Hypothesis (Status Quo):\n",
    "\n",
    "$$ H_0: \\mu = 500 $$\n",
    "\n",
    "Step - 2:\n",
    "\n",
    "Collect a sample of size n = 10\n",
    "\n",
    "$$[490, 220, 470, 500, 495, 496, 496, 498, 508, 480]$$\n",
    "\n",
    "Compute sample mean\n",
    "\n",
    "$$\\bar{x} = 465.3 $$\n",
    "\n",
    "$$ S = 82.3918078451978 $$\n",
    "\n",
    " Step - 3: \n",
    "\n",
    "Compute Test Statistic:\n",
    "\n",
    "$$ t = \\frac{\\bar{x} - \\mu}{s/\\sqrt[2]{n}} = -1.3318197242863192 $$\n",
    " \n",
    " Step - 4:\n",
    "\n",
    "Decide $ \\alpha $ or significance level\n",
    "\n",
    "$$confidence level = 0.95$$\n",
    "\n",
    "$$\\alpha = 1 - confidence level  $$\n",
    "\n",
    "$$ \\alpha = 0.5 $$\n",
    "\n",
    "$$ t_critical = t_{n-1,\\frac{\\alpha}{2}} = 2.093024054408263 $$\n",
    "\n",
    "\n",
    " Step - 5: two tailed t-test:\n",
    "\n",
    "$$ \\ Reject \\ H_0 \\ if : |t| \\gt t_{n-1,\\frac{\\alpha}{2}}  $$\n",
    "\n"
   ]
  },
  {
   "cell_type": "code",
   "execution_count": 22,
   "id": "ddb53e41",
   "metadata": {},
   "outputs": [
    {
     "name": "stdout",
     "output_type": "stream",
     "text": [
      "465.3\n"
     ]
    }
   ],
   "source": [
    "l = [490, 220, 470, 500, 495, 496, 496, 498, 508, 480]\n",
    "\n",
    "sample_mean = sum(l)/len(l)\n",
    "\n",
    "print(sample_mean)"
   ]
  },
  {
   "cell_type": "code",
   "execution_count": 23,
   "id": "3f985004",
   "metadata": {},
   "outputs": [
    {
     "data": {
      "text/plain": [
       "82.3918078451978"
      ]
     },
     "execution_count": 23,
     "metadata": {},
     "output_type": "execute_result"
    }
   ],
   "source": [
    "#sample standard deviation:\n",
    "np.std(l)\n"
   ]
  },
  {
   "cell_type": "code",
   "execution_count": 37,
   "id": "88d82e81",
   "metadata": {},
   "outputs": [
    {
     "name": "stdout",
     "output_type": "stream",
     "text": [
      "2.2621571627409915\n"
     ]
    }
   ],
   "source": [
    "# Two Tail - Calculating the t-critical value\n",
    "\n",
    "confidence_level = 0.95\n",
    "\n",
    "alpha = 1 - confidence_level\n",
    "\n",
    "t_critical = t.ppf(1-alpha/2, df = 9)\n",
    "\n",
    "print(t_critical)"
   ]
  },
  {
   "cell_type": "code",
   "execution_count": 38,
   "id": "447b7d37",
   "metadata": {},
   "outputs": [],
   "source": [
    "# Defining the sample and population parameters\n",
    "\n",
    "sample_size = 10\n",
    "sample_mean = 465.3\n",
    "pop_mean = 500\n",
    "sample_std = 82.3918078451978"
   ]
  },
  {
   "cell_type": "code",
   "execution_count": 39,
   "id": "a2e55ce2",
   "metadata": {},
   "outputs": [
    {
     "name": "stdout",
     "output_type": "stream",
     "text": [
      "-1.3318197242863192\n"
     ]
    }
   ],
   "source": [
    "t = t_score(sample_size, sample_mean, pop_mean, sample_std)\n",
    "print(t)"
   ]
  },
  {
   "cell_type": "code",
   "execution_count": 40,
   "id": "8087f258",
   "metadata": {},
   "outputs": [
    {
     "data": {
      "text/plain": [
       "Text(465.3, 0.0007, 'x_bar')"
      ]
     },
     "execution_count": 40,
     "metadata": {},
     "output_type": "execute_result"
    },
    {
     "data": {
      "image/png": "[encoded data removed]",
      "text/plain": [
       "<Figure size 432x288 with 1 Axes>"
      ]
     },
     "metadata": {
      "needs_background": "light"
     },
     "output_type": "display_data"
    }
   ],
   "source": [
    "# Ploting the sampling distribution with rejection regions\n",
    "\n",
    "# Defining the x minimum and x maximum\n",
    "x_min = 400\n",
    "x_max = 600\n",
    "\n",
    "\n",
    "# Defining the sampling distribution mean and sampling distribution std\n",
    "mean = pop_mean\n",
    "std = sample_std / sample_size**0.5\n",
    "\n",
    "\n",
    "# Ploting the graph and setting the x limits\n",
    "x = np.linspace(x_min, x_max, 100)\n",
    "y = norm.pdf(x, mean, std)\n",
    "plt.xlim(x_min, x_max)\n",
    "plt.plot(x, y)\n",
    "\n",
    "\n",
    "# Computing the left and right critical values (Two tailed Test)\n",
    "t_critical_left = pop_mean + (-t_critical * std)\n",
    "t_critical_right = pop_mean + (t_critical * std)\n",
    "\n",
    "\n",
    "# Shading the left rejection region\n",
    "x1 = np.linspace(x_min, t_critical_left, 100)\n",
    "y1 = norm.pdf(x1, mean, std)\n",
    "plt.fill_between(x1, y1, color='orange')\n",
    "\n",
    "\n",
    "# Shading the right rejection region\n",
    "x2 = np.linspace(t_critical_right, x_max, 100)\n",
    "y2 = norm.pdf(x2, mean, std)\n",
    "plt.fill_between(x2, y2, color='orange')\n",
    "\n",
    "\n",
    "# Ploting the sample mean and concluding the results \n",
    "plt.scatter(sample_mean, 0)\n",
    "plt.annotate(\"x_bar\", (sample_mean, 0.0007))\n",
    "\n",
    "\n",
    "# In this case sample mean falls in the rejection region\n",
    "# i.e. here we reject the Null Hypothesis"
   ]
  },
  {
   "cell_type": "code",
   "execution_count": 41,
   "id": "2e8fb4e5",
   "metadata": {},
   "outputs": [
    {
     "name": "stdout",
     "output_type": "stream",
     "text": [
      "Fail to reject Null Hypothesis\n"
     ]
    }
   ],
   "source": [
    "# Conclusion using t test\n",
    "if(np.abs(t) > t_critical):\n",
    "    print(\"Reject Null Hypothesis\")\n",
    "else:\n",
    "    print(\"Fail to reject Null Hypothesis\")"
   ]
  },
  {
   "cell_type": "markdown",
   "id": "4a5fba3b",
   "metadata": {},
   "source": [
    "**Q-2: You have developed a new Natural Language Processing Algorithms and done a user study. You claim that the average rating given by the users is greater than 4 on a scale of 1 to 5. How do you prove this to your client? ~~(Given that the population std is 0.5)~~**\n",
    "\n",
    "Step - 1:\n",
    "Alternate Hypothesis (Bold claim):\n",
    "\n",
    "$$ H_1: \\mu > 4 $$\n",
    "\n",
    "Null Hypothesis (Status Quo):\n",
    "\n",
    "$$ H_0: \\mu \\leq 4 $$\n",
    "\n",
    "Step - 2:\n",
    "\n",
    "Collect a sample of size n = 10\n",
    "\n",
    "$$ [4, 3, 5, 4, 5, 3, 5, 5, 4, 2, 4, 5, 5, 4, 4, 5, 4, 5, 4, 5] $$\n",
    "\n",
    "Compute sample mean\n",
    "\n",
    "$$\\bar{x} = 4.25 $$\n",
    "\n",
    "compute sample standard deviation :\n",
    "\n",
    "$$ S =  0.82915619758885$$\n",
    "\n",
    " Step - 3: \n",
    "\n",
    "Compute Test Statistic:\n",
    "\n",
    "$$ t = \\frac{\\bar{x} - \\mu}{s/\\sqrt[2]{n}} $$\n",
    " \n",
    " Step - 4:\n",
    "\n",
    "Decide $ \\alpha $ or significance level\n",
    "\n",
    "$$confidence level = 0.95$$\n",
    "\n",
    "$$\\alpha = 1 - confidence level  $$\n",
    "\n",
    "$$ \\alpha = 0.5 $$\n",
    "\n",
    "$$ t_critical = t_{n-1,\\frac{\\alpha}{2}} = 1.729132811521367 $$\n",
    "\n",
    " Step - 5:  tailed z-test:\n",
    "\n",
    "$$ \\ Reject \\ H_0 \\ if : t \\gt t_{n-1,\\frac{\\alpha}{2}}  $$\n",
    "\n"
   ]
  },
  {
   "cell_type": "code",
   "execution_count": 57,
   "id": "ad6a33a3",
   "metadata": {},
   "outputs": [
    {
     "name": "stdout",
     "output_type": "stream",
     "text": [
      "4.25\n"
     ]
    }
   ],
   "source": [
    "l = [4, 3, 5, 4, 5, 3, 5, 5, 4, 2, 4, 5, 5, 4, 4, 5, 4, 5, 4, 5]\n",
    "print(np.mean(l))"
   ]
  },
  {
   "cell_type": "code",
   "execution_count": 58,
   "id": "10a3894a",
   "metadata": {},
   "outputs": [
    {
     "name": "stdout",
     "output_type": "stream",
     "text": [
      "0.82915619758885\n"
     ]
    }
   ],
   "source": [
    "#sample standard deviation:\n",
    "print(np.std(l))\n"
   ]
  },
  {
   "cell_type": "code",
   "execution_count": 59,
   "id": "6d2c4187",
   "metadata": {},
   "outputs": [
    {
     "name": "stdout",
     "output_type": "stream",
     "text": [
      "1.729132811521367\n"
     ]
    }
   ],
   "source": [
    "# one Tail - Calculating the t-critical value\n",
    "\n",
    "confidence_level = 0.95\n",
    "\n",
    "alpha = 1 - confidence_level\n",
    "\n",
    "t_critical = t.ppf(1-alpha, df = 19)\n",
    "\n",
    "print(t_critical)"
   ]
  },
  {
   "cell_type": "code",
   "execution_count": 60,
   "id": "3eefebda",
   "metadata": {},
   "outputs": [],
   "source": [
    "# Defining the sample and population parameters\n",
    "\n",
    "sample_size = 20\n",
    "sample_mean = 4.25\n",
    "pop_mean = 4\n",
    "sample_std = 0.82915619758885"
   ]
  },
  {
   "cell_type": "code",
   "execution_count": 62,
   "id": "525c34da",
   "metadata": {},
   "outputs": [
    {
     "data": {
      "text/plain": [
       "Text(4.25, 0.1, 'x_bar')"
      ]
     },
     "execution_count": 62,
     "metadata": {},
     "output_type": "execute_result"
    },
    {
     "data": {
      "image/png": "[encoded data removed]",
      "text/plain": [
       "<Figure size 432x288 with 1 Axes>"
      ]
     },
     "metadata": {
      "needs_background": "light"
     },
     "output_type": "display_data"
    }
   ],
   "source": [
    "x_min = 3.5\n",
    "x_max = 4.5\n",
    "\n",
    "mean = pop_mean\n",
    "std = sample_std / (sample_size**0.5)\n",
    "\n",
    "x = np.linspace(x_min, x_max, 100)\n",
    "y = norm.pdf(x, mean, std)\n",
    "\n",
    "plt.xlim(x_min, x_max)\n",
    "# plt.ylim(0, 0.03)\n",
    "\n",
    "plt.plot(x, y)\n",
    "\n",
    "t_critical_right = pop_mean + (t_critical * std)\n",
    "\n",
    "x1 = np.linspace(t_critical_right, x_max, 100)\n",
    "y1 = norm.pdf(x1, mean, std)\n",
    "plt.fill_between(x1, y1, color='orange')\n",
    "\n",
    "plt.scatter(sample_mean, 0)\n",
    "plt.annotate(\"x_bar\", (sample_mean, 0.1))\n",
    "\n",
    "# In this case sample mean falls in the acceptance region\n",
    "# i.e. Fail to Reject the Null Hypothesis"
   ]
  },
  {
   "cell_type": "code",
   "execution_count": 88,
   "id": "be1923d8",
   "metadata": {},
   "outputs": [
    {
     "name": "stdout",
     "output_type": "stream",
     "text": [
      "Fail to reject Null Hypothesis\n"
     ]
    }
   ],
   "source": [
    "# Conclusion using t test\n",
    "if(np.abs(t) > t_critical):\n",
    "    print(\"Reject Null Hypothesis\")\n",
    "else:\n",
    "    print(\"Fail to reject Null Hypothesis\")"
   ]
  },
  {
   "cell_type": "markdown",
   "id": "5d45da2b",
   "metadata": {},
   "source": [
    "**Q-3: TATA has developed a better fuel management system for the SUV segment. They claim that with this system, on average the SUV's mileage is at least 15 km/litre? ~~(Given that the population std is 1)~~**\n",
    "\n",
    "Step - 1:\n",
    "Alternate Hypothesis (Bold claim):\n",
    "\n",
    "$$ H_1: \\mu > 15 $$\n",
    "\n",
    "Null Hypothesis (Status Quo):\n",
    "\n",
    "$$ H_0: \\mu \\leq 15 $$\n",
    "\n",
    "Step - 2:\n",
    "\n",
    "Collect a sample of size n = 10\n",
    "\n",
    "$$ [14.08, 14.13, 15.65, 13.78, 16.26, 14.97, 15.36, 15.81, 14.53, 16.79, 15.78, 16.98, 13.23, 15.43, 15.46, 13.88, 14.31, 14.41, 15.76, 15.38] $$\n",
    "\n",
    "Compute sample mean\n",
    "\n",
    "$$\\bar{x} = 15.099 $$\n",
    "\n",
    "compute sample standard deviation\n",
    "\n",
    "$$ S = 0.9994043225842081 $$\n",
    "\n",
    " Step - 3: \n",
    "\n",
    "Compute Test Statistic:\n",
    "\n",
    "$$confidence level = 0.95$$\n",
    "\n",
    "$$\\alpha = 1 - confidence level  $$\n",
    "\n",
    "$$ \\alpha = 0.5 $$\n",
    "\n",
    "$$ t_critical = t_{n-1,\\frac{\\alpha}{2}} = 1.729132811521367 $$\n",
    "\n",
    " Step - 5:  tailed z-test:\n",
    "\n",
    "$$ \\ Reject \\ H_0 \\ if : t \\gt t_{n-1,\\frac{\\alpha}{2}}  $$\n",
    "\n"
   ]
  },
  {
   "cell_type": "code",
   "execution_count": 81,
   "id": "28fdf3f5",
   "metadata": {},
   "outputs": [
    {
     "name": "stdout",
     "output_type": "stream",
     "text": [
      "15.099\n"
     ]
    }
   ],
   "source": [
    "l = [14.08, 14.13, 15.65, 13.78, 16.26, 14.97, 15.36, 15.81, 14.53, 16.79, 15.78, 16.98, 13.23, 15.43, 15.46, 13.88, 14.31, 14.41, 15.76, 15.38]\n",
    "print(np.mean(l))"
   ]
  },
  {
   "cell_type": "code",
   "execution_count": 82,
   "id": "e37275f6",
   "metadata": {},
   "outputs": [
    {
     "name": "stdout",
     "output_type": "stream",
     "text": [
      "0.9994043225842081\n"
     ]
    }
   ],
   "source": [
    "#sample standard deviation:\n",
    "print(np.std(l))\n"
   ]
  },
  {
   "cell_type": "code",
   "execution_count": 84,
   "id": "47cbd2ef",
   "metadata": {},
   "outputs": [
    {
     "name": "stdout",
     "output_type": "stream",
     "text": [
      "1.729132811521367\n"
     ]
    }
   ],
   "source": [
    "# One tail\n",
    "\n",
    "alpha = 1 - 0.95\n",
    "\n",
    "t_critical = t.ppf(1-alpha, df = 19)\n",
    "\n",
    "print(t_critical)"
   ]
  },
  {
   "cell_type": "code",
   "execution_count": 85,
   "id": "80013892",
   "metadata": {},
   "outputs": [],
   "source": [
    "# Defining the sample and population parameters\n",
    "\n",
    "sample_size = 20\n",
    "sample_mean = 15.1\n",
    "pop_mean = 15\n",
    "sample_std = 0.9994043225842081"
   ]
  },
  {
   "cell_type": "code",
   "execution_count": 86,
   "id": "1304187c",
   "metadata": {},
   "outputs": [
    {
     "name": "stdout",
     "output_type": "stream",
     "text": [
      "0.44748014931892083\n"
     ]
    }
   ],
   "source": [
    "t = t_score(sample_size, sample_mean, pop_mean, sample_std)\n",
    "print(t)"
   ]
  },
  {
   "cell_type": "code",
   "execution_count": 89,
   "id": "315622ab",
   "metadata": {
    "scrolled": true
   },
   "outputs": [
    {
     "data": {
      "text/plain": [
       "Text(15.1, 0.1, 'x_bar')"
      ]
     },
     "execution_count": 89,
     "metadata": {},
     "output_type": "execute_result"
    },
    {
     "data": {
      "image/png": "[encoded data removed]",
      "text/plain": [
       "<Figure size 432x288 with 1 Axes>"
      ]
     },
     "metadata": {
      "needs_background": "light"
     },
     "output_type": "display_data"
    }
   ],
   "source": [
    "x_min = 13\n",
    "x_max = 17\n",
    "\n",
    "mean = pop_mean\n",
    "std = sample_std / (sample_size**0.5)\n",
    "\n",
    "x = np.linspace(x_min, x_max, 100)\n",
    "y = norm.pdf(x, mean, std)\n",
    "\n",
    "plt.xlim(x_min, x_max)\n",
    "# plt.ylim(0, 0.03)\n",
    "\n",
    "plt.plot(x, y)\n",
    "\n",
    "t_critical_right = pop_mean + (t_critical * std)\n",
    "\n",
    "x1 = np.linspace(t_critical_right, x_max, 100)\n",
    "y1 = norm.pdf(x1, mean, std)\n",
    "plt.fill_between(x1, y1, color='orange')\n",
    "\n",
    "plt.scatter(sample_mean, 0)\n",
    "plt.annotate(\"x_bar\", (sample_mean, 0.1))\n",
    "\n",
    "# In this case sample mean falls in the acceptance region\n",
    "# i.e. Fail to Reject the Null Hypothesis"
   ]
  },
  {
   "cell_type": "code",
   "execution_count": 90,
   "id": "c30fdc36",
   "metadata": {},
   "outputs": [
    {
     "name": "stdout",
     "output_type": "stream",
     "text": [
      "Fail to reject Null Hypothesis\n"
     ]
    }
   ],
   "source": [
    "# Conclusion using t test\n",
    "if(np.abs(t) > t_critical):\n",
    "    print(\"Reject Null Hypothesis\")\n",
    "else:\n",
    "    print(\"Fail to reject Null Hypothesis\")"
   ]
  },
  {
   "cell_type": "markdown",
   "id": "68e6e89e",
   "metadata": {},
   "source": [
    "**Q-4: You have developed a new Machine Learning Application and claim that on average it takes less than 100 ms to predict for any future datapoint. How do you convince your client about this claim? ~~(Based on past data you know that the std is 10 ms)~~**\n",
    "Step - 1:\n",
    "Alternate Hypothesis (Bold claim):\n",
    "\n",
    "$$ H_1: \\mu < 100 $$\n",
    "\n",
    "Null Hypothesis (Status Quo):\n",
    "\n",
    "$$ H_0: \\mu \\geq 100 $$\n",
    "\n",
    "Step - 2:\n",
    "\n",
    "Collect a sample of size  n = 100\n",
    "\n",
    "Compute sample mean\n",
    "\n",
    "$$\\bar{x} = 9.75 $$\n",
    "\n",
    "compute sample standard deviation\n",
    "\n",
    "$$ S = $$\n",
    "\n",
    " Step - 3: \n",
    "\n",
    "Compute Test Statistic:\n",
    "\n",
    "$$confidence level = 0.95$$\n",
    "\n",
    "$$\\alpha = 1 - confidence level  $$\n",
    "\n",
    "$$ \\alpha = 0.5 $$\n",
    "\n",
    "$$ t_critical = t_{n-1,\\frac{\\alpha}{2}} = 1.729132811521367 $$\n",
    "\n",
    " Step - 5:  tailed z-test:\n",
    "\n",
    "$$ \\ Reject \\ H_0 \\ if : t \\lt t_{n-1,\\frac{\\alpha}{2}}  $$\n",
    "\n"
   ]
  },
  {
   "cell_type": "code",
   "execution_count": 66,
   "id": "8e1be3b5",
   "metadata": {},
   "outputs": [
    {
     "name": "stdout",
     "output_type": "stream",
     "text": [
      "1.729132811521367\n"
     ]
    }
   ],
   "source": [
    "# One tail\n",
    "\n",
    "alpha = 1 - 0.95\n",
    "\n",
    "t_critical = t.ppf(1-alpha, df = 19)\n",
    "\n",
    "print(t_critical)"
   ]
  },
  {
   "cell_type": "code",
   "execution_count": 67,
   "id": "9bd3f510",
   "metadata": {},
   "outputs": [],
   "source": [
    "# Defining the sample and population parameters\n",
    "\n",
    "sample_size = 100\n",
    "sample_mean = 97.5\n",
    "sample_std = 7\n",
    "pop_mean = 100"
   ]
  },
  {
   "cell_type": "code",
   "execution_count": 68,
   "id": "cb7d5808",
   "metadata": {},
   "outputs": [
    {
     "name": "stdout",
     "output_type": "stream",
     "text": [
      "-3.5714285714285716\n"
     ]
    }
   ],
   "source": [
    "t = t_score(sample_size, sample_mean, pop_mean, sample_std)\n",
    "print(t)"
   ]
  },
  {
   "cell_type": "code",
   "execution_count": 69,
   "id": "1b68ffd7",
   "metadata": {},
   "outputs": [
    {
     "data": {
      "text/plain": [
       "Text(97.5, 0.02, 'x_bar')"
      ]
     },
     "execution_count": 69,
     "metadata": {},
     "output_type": "execute_result"
    },
    {
     "data": {
      "image/png": "[encoded data removed]",
      "text/plain": [
       "<Figure size 432x288 with 1 Axes>"
      ]
     },
     "metadata": {
      "needs_background": "light"
     },
     "output_type": "display_data"
    }
   ],
   "source": [
    "x_min = 95\n",
    "x_max = 105\n",
    "\n",
    "mean = pop_mean\n",
    "std = sample_std / (sample_size**0.5)\n",
    "\n",
    "x = np.linspace(x_min, x_max, 100)\n",
    "y = norm.pdf(x, mean, std)\n",
    "\n",
    "plt.xlim(x_min, x_max)\n",
    "# plt.ylim(0, 0.03)\n",
    "\n",
    "plt.plot(x, y)\n",
    "\n",
    "t_critical_left = pop_mean + (-t_critical * std)\n",
    "\n",
    "x1 = np.linspace(x_min, t_critical_left, 100)\n",
    "y1 = norm.pdf(x1, mean, std)\n",
    "plt.fill_between(x1, y1, color='orange')\n",
    "\n",
    "plt.scatter(sample_mean, 0)\n",
    "plt.annotate(\"x_bar\", (sample_mean, 0.02))\n",
    "\n",
    "# In this case sample mean falls in the rejection region\n",
    "\n",
    "# i.e. Reject Null Hypothesis"
   ]
  },
  {
   "cell_type": "code",
   "execution_count": 16,
   "id": "4d8ce9a3",
   "metadata": {},
   "outputs": [
    {
     "name": "stdout",
     "output_type": "stream",
     "text": [
      "Reject Null Hypothesis\n"
     ]
    }
   ],
   "source": [
    "if(t < -t_critical):\n",
    "    print(\"Reject Null Hypothesis\")\n",
    "else:\n",
    "    print(\"Fail to reject Null Hypothesis\")"
   ]
  }
 ],
 "metadata": {
  "kernelspec": {
   "display_name": "Python 3",
   "language": "python",
   "name": "python3"
  },
  "language_info": {
   "codemirror_mode": {
    "name": "ipython",
    "version": 3
   },
   "file_extension": ".py",
   "mimetype": "text/x-python",
   "name": "python",
   "nbconvert_exporter": "python",
   "pygments_lexer": "ipython3",
   "version": "3.9.4"
  }
 },
 "nbformat": 4,
 "nbformat_minor": 5
}
