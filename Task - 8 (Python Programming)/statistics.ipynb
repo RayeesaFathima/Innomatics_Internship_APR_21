{
 "cells": [
  {
   "cell_type": "code",
   "execution_count": 1,
   "id": "b102aee4",
   "metadata": {},
   "outputs": [
    {
     "name": "stdout",
     "output_type": "stream",
     "text": [
      "1.09 1\n",
      "0.696\n"
     ]
    }
   ],
   "source": [
    "#question 1:\n",
    "def fact(n):\n",
    "    return 1 if n == 0 else n*fact(n-1)\n",
    "\n",
    "def comb(n, x):\n",
    "    return fact(n) / (fact(x) * fact(n-x))\n",
    "\n",
    "def b(x, n, p):\n",
    "    return comb(n, x) * p**x * (1-p)**(n-x)\n",
    "\n",
    "l, r = list(map(float, input().split(\" \")))\n",
    "odds = l / r\n",
    "print(round(sum([b(i, 6, odds / (1 + odds)) for i in range(3, 7)]), 3))\n"
   ]
  },
  {
   "cell_type": "code",
   "execution_count": 6,
   "id": "c80ca42a",
   "metadata": {
    "scrolled": true
   },
   "outputs": [
    {
     "name": "stdout",
     "output_type": "stream",
     "text": [
      "12 10\n",
      "0.891\n",
      "0.342\n"
     ]
    },
    {
     "name": "stderr",
     "output_type": "stream",
     "text": [
      "<ipython-input-6-cd76928abd2d>:6: DeprecationWarning: Using factorial() with floats is deprecated\n",
      "  return factorial(n) / (factorial(r) * factorial(n - r))\n"
     ]
    }
   ],
   "source": [
    "#question 2:\n",
    "import math\n",
    "from math import factorial\n",
    "r, p = map(float, input().split())\n",
    "def comb(n, r):\n",
    "    return factorial(n) / (factorial(r) * factorial(n - r))\n",
    "print(round(sum([comb(p, i) * (r / 100)**i * ((100 - r) / 100)**(p - i)  for i in range(0, 3)]), 3))\n",
    "print(round(sum([comb(p, i) * (r / 100)**i * ((100 - r) / 100)**(p - i)  for i in range(2, 11)]), 3))\n"
   ]
  },
  {
   "cell_type": "code",
   "execution_count": 1,
   "id": "f8a14c92",
   "metadata": {},
   "outputs": [
    {
     "name": "stdout",
     "output_type": "stream",
     "text": [
      "0.401\n",
      "0.341\n"
     ]
    }
   ],
   "source": [
    "#question 3:\n",
    "import math\n",
    "mean, std = 20, 2\n",
    "cdf = lambda x: 0.5 * (1 + math.erf((x - mean) / (std * (2 ** 0.5))))\n",
    "\n",
    "print('{:.3f}'.format(cdf(19.5)))\n",
    "\n",
    "print('{:.3f}'.format(cdf(22) - cdf(20)))"
   ]
  },
  {
   "cell_type": "code",
   "execution_count": 2,
   "id": "4f0fa072",
   "metadata": {},
   "outputs": [
    {
     "name": "stdout",
     "output_type": "stream",
     "text": [
      "15.87\n",
      "84.13\n",
      "15.87\n"
     ]
    }
   ],
   "source": [
    "#question 4:\n",
    "import math\n",
    "mean, std = 70, 10\n",
    "cdf = lambda x: 0.5 * (1 + math.erf((x - mean) / (std * (2 ** 0.5))))\n",
    "\n",
    "\n",
    "print(round((1-cdf(80))*100,2))\n",
    "print(round((1-cdf(60))*100,2))\n",
    "print(round((cdf(60))*100,2))\n"
   ]
  },
  {
   "cell_type": "code",
   "execution_count": 3,
   "id": "9b9a421e",
   "metadata": {},
   "outputs": [
    {
     "name": "stdout",
     "output_type": "stream",
     "text": [
      "9800\n",
      "49\n",
      "205\n",
      "15\n",
      "0.0098\n"
     ]
    }
   ],
   "source": [
    "#question 5:\n",
    "import math\n",
    "\n",
    "x = int(input())\n",
    "n = int(input())\n",
    "mu = int(input())\n",
    "sigma = int(input())\n",
    "\n",
    "mu_sum = n * mu \n",
    "sigma_sum = math.sqrt(n) * sigma\n",
    "\n",
    "def cdf(x, mu, sigma):\n",
    "    Z = (x - mu)/sigma\n",
    "    return 0.5*(1 + math.erf(Z/(math.sqrt(2))))\n",
    "\n",
    "print(round(cdf(x, mu_sum, sigma_sum), 4))\n"
   ]
  },
  {
   "cell_type": "code",
   "execution_count": 4,
   "id": "ae169db3",
   "metadata": {},
   "outputs": [
    {
     "name": "stdout",
     "output_type": "stream",
     "text": [
      "0.6915\n"
     ]
    }
   ],
   "source": [
    "#question 6:\n",
    "import math\n",
    "x = 250\n",
    "n = 100\n",
    "sampling_mean = 2.4\n",
    "sampling_stdev = 2.0\n",
    "stdev = sampling_stdev * math.sqrt(n)\n",
    "\n",
    "cdf = 0.5 * (1 + math.erf((x - sampling_mean * n) / (stdev * math.sqrt(2))))\n",
    "\n",
    "print(round(cdf,4))\n"
   ]
  },
  {
   "cell_type": "code",
   "execution_count": 6,
   "id": "dae54533",
   "metadata": {},
   "outputs": [
    {
     "name": "stdout",
     "output_type": "stream",
     "text": [
      "100\n",
      "500\n",
      "80\n",
      "0.95\n",
      "1.96\n",
      "484.32\n",
      "515.68\n"
     ]
    }
   ],
   "source": [
    "#question 7:\n",
    "x = float(input())\n",
    "mean = float(input())\n",
    "sd = float(input())\n",
    "interval = float(input())\n",
    "z = float (input())\n",
    "\n",
    "sd_sample = sd / (x**0.5)\n",
    "print(round(mean - sd_sample*z,2))\n",
    "print(round(mean + sd_sample*z,2))\n"
   ]
  },
  {
   "cell_type": "code",
   "execution_count": 7,
   "id": "56e1d696",
   "metadata": {},
   "outputs": [
    {
     "name": "stdout",
     "output_type": "stream",
     "text": [
      "10\n",
      "10 9.8 8 7.8 7.7 7 6 5 4 2 \n",
      "200 44 32 24 22 17 15 12 8 4\n",
      "0.612\n"
     ]
    }
   ],
   "source": [
    "#question 8:\n",
    "N = int(input())\n",
    "X = list(map(float,input().strip().split()))\n",
    "Y = list(map(float,input().strip().split()))\n",
    "\n",
    "mu_x = sum(X) / N\n",
    "mu_y = sum(Y) / N\n",
    "\n",
    "stdv_x = (sum([(i - mu_x)**2 for i in X]) / N)**0.5\n",
    "stdv_y = (sum([(i - mu_y)**2 for i in Y]) / N)**0.5\n",
    "\n",
    "\n",
    "covariance = sum([(X[i] - mu_x) * (Y[i] -mu_y) for i in range(N)])\n",
    "\n",
    "correlation_coefficient = covariance / (N * stdv_x * stdv_y)\n",
    "\n",
    "print(round(correlation_coefficient,3))\n"
   ]
  },
  {
   "cell_type": "code",
   "execution_count": 8,
   "id": "0f144ba7",
   "metadata": {},
   "outputs": [
    {
     "name": "stdout",
     "output_type": "stream",
     "text": [
      "95 85\n",
      "85 95\n",
      "80 70\n",
      "70 65\n",
      "60 70\n",
      "78.288\n"
     ]
    }
   ],
   "source": [
    "#question 9:\n",
    "x, y = list(), list()\n",
    "n = 5\n",
    "for _ in range(n):\n",
    "    i = input().split()\n",
    "    x.append(int(i[0]))\n",
    "    y.append(int(i[1]))\n",
    "\n",
    "x_sum = sum(x)\n",
    "y_sum = sum(y)\n",
    "x_mean = x_sum/n\n",
    "y_mean = y_sum/n\n",
    "\n",
    "x_sum_sqr = x_sum**2\n",
    "x_sqr_sum = sum([x_i**2 for x_i in x])\n",
    "\n",
    "sum_prod_xy = 0\n",
    "for x_i,y_i in zip(x,y):\n",
    "    sum_prod_xy += (x_i*y_i)\n",
    "\n",
    "\n",
    "\n",
    "b = (n*sum_prod_xy - x_sum*y_sum) / (n*x_sqr_sum - x_sum**2)\n",
    "\n",
    "a = y_mean - b*x_mean\n",
    "\n",
    "print(round(a + b*80,3))\n"
   ]
  },
  {
   "cell_type": "code",
   "execution_count": 9,
   "id": "c1804a20",
   "metadata": {},
   "outputs": [
    {
     "name": "stdout",
     "output_type": "stream",
     "text": [
      "2 7\n",
      "0.18 0.89 109.85\n",
      "1.0 0.26 155.72\n",
      "0.92 0.11 137.66\n",
      "0.07 0.37 76.17\n",
      "0.85 0.16 139.75\n",
      "0.99 0.41 162.6\n",
      "0.87 0.47 151.77\n",
      "4\n",
      "0.49 0.18\n",
      "105.21455835106937\n",
      "0.57 0.83\n",
      "142.6709513072996\n",
      "0.56 0.64\n",
      "132.93605469124716\n",
      "0.76 0.18\n",
      "129.70175404502453\n"
     ]
    }
   ],
   "source": [
    "#question 10:\n",
    "import numpy as np\n",
    "\n",
    "nfeatures, nfeaturesets = map(int, input().split())\n",
    "X = list()\n",
    "Y = list()\n",
    "for _ in range(nfeaturesets):\n",
    "    *Xtemp, Ytemp = [1] + list(map(float, input().split()))\n",
    "    X.append((Xtemp))\n",
    "    Y.append(Ytemp)\n",
    "\n",
    "Xarr = np.array(X)\n",
    "Yarr = np.array(Y)\n",
    "\n",
    "B = np.matmul(np.matmul(np.linalg.inv(np.matmul(np.transpose(Xarr),Xarr)), np.transpose(Xarr)), Yarr)\n",
    "\n",
    "ntests = int(input())\n",
    "for _ in range(ntests):\n",
    "    sample = [1] + list(map(float, input().split()))\n",
    "    samplearr = np.array(sample)\n",
    "    print(np.matmul(samplearr,B))"
   ]
  }
 ],
 "metadata": {
  "kernelspec": {
   "display_name": "Python 3",
   "language": "python",
   "name": "python3"
  },
  "language_info": {
   "codemirror_mode": {
    "name": "ipython",
    "version": 3
   },
   "file_extension": ".py",
   "mimetype": "text/x-python",
   "name": "python",
   "nbconvert_exporter": "python",
   "pygments_lexer": "ipython3",
   "version": "3.9.4"
  }
 },
 "nbformat": 4,
 "nbformat_minor": 5
}
