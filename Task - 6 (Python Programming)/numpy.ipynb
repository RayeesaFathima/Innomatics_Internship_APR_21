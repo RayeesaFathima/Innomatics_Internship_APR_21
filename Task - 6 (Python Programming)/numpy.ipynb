{
 "cells": [
  {
   "cell_type": "code",
   "execution_count": 1,
   "id": "c2b4a5a6",
   "metadata": {},
   "outputs": [
    {
     "name": "stdout",
     "output_type": "stream",
     "text": [
      "1 2 3 4 -8 -10\n",
      "[-10.  -8.   4.   3.   2.   1.]\n"
     ]
    }
   ],
   "source": [
    "#question 1\n",
    "import numpy\n",
    "\n",
    "def arrays(arr):\n",
    "    # complete this function\n",
    "    # use numpy.array\n",
    "    return numpy.array(arr[::-1], float)\n",
    "arr = input().strip().split(' ')\n",
    "result = arrays(arr)\n",
    "print(result)"
   ]
  },
  {
   "cell_type": "code",
   "execution_count": 2,
   "id": "f666d374",
   "metadata": {},
   "outputs": [
    {
     "name": "stdout",
     "output_type": "stream",
     "text": [
      "1 2 3 4 5 6 7 8 9\n",
      "[[1 2 3]\n",
      " [4 5 6]\n",
      " [7 8 9]]\n"
     ]
    }
   ],
   "source": [
    "#question 2\n",
    "import numpy\n",
    "\n",
    "change_array = numpy.array(list(map(int,input().split())))\n",
    "change_array.shape = (3, 3)\n",
    "print (change_array)      \n",
    "\n"
   ]
  },
  {
   "cell_type": "code",
   "execution_count": 3,
   "id": "f55f534a",
   "metadata": {},
   "outputs": [
    {
     "name": "stdout",
     "output_type": "stream",
     "text": [
      "2 2\n",
      "1 2\n",
      "3 4\n",
      "[[1 3]\n",
      " [2 4]]\n",
      "[1 2 3 4]\n"
     ]
    }
   ],
   "source": [
    "#question 3\n",
    "import numpy\n",
    "n , m = map(int,input().split())\n",
    "my_array = numpy.array([input().split() for _ in range(n)], int)\n",
    "print(numpy.transpose(my_array))\n",
    "print(my_array.flatten())\n"
   ]
  },
  {
   "cell_type": "code",
   "execution_count": 4,
   "id": "5f78376d",
   "metadata": {},
   "outputs": [
    {
     "name": "stdout",
     "output_type": "stream",
     "text": [
      "4 3 2\n",
      "1 2\n",
      "1 2 \n",
      "1 2\n",
      "1 2\n",
      "3 4\n",
      "3 4\n",
      "3 4\n",
      "[[1 2]\n",
      " [1 2]\n",
      " [1 2]\n",
      " [1 2]\n",
      " [3 4]\n",
      " [3 4]\n",
      " [3 4]]\n"
     ]
    }
   ],
   "source": [
    "#question 4\n",
    "import numpy\n",
    "\n",
    "n , m  , p= map(int,input().split())\n",
    "arr1 = numpy.array([input().split() for _ in range(n)], int)\n",
    "arr2 = numpy.array([input().split() for _ in range(m)], int)\n",
    "print(numpy.concatenate((arr1, arr2), axis = 0))\n"
   ]
  },
  {
   "cell_type": "code",
   "execution_count": 1,
   "id": "b77c94ac",
   "metadata": {},
   "outputs": [
    {
     "name": "stdout",
     "output_type": "stream",
     "text": [
      "3 3 3\n",
      "[[[0 0 0]\n",
      "  [0 0 0]\n",
      "  [0 0 0]]\n",
      "\n",
      " [[0 0 0]\n",
      "  [0 0 0]\n",
      "  [0 0 0]]\n",
      "\n",
      " [[0 0 0]\n",
      "  [0 0 0]\n",
      "  [0 0 0]]]\n",
      "[[[1 1 1]\n",
      "  [1 1 1]\n",
      "  [1 1 1]]\n",
      "\n",
      " [[1 1 1]\n",
      "  [1 1 1]\n",
      "  [1 1 1]]\n",
      "\n",
      " [[1 1 1]\n",
      "  [1 1 1]\n",
      "  [1 1 1]]]\n"
     ]
    }
   ],
   "source": [
    "#question 5\n",
    "import numpy\n",
    "n = list(map(int,input().split()))\n",
    "print(numpy.zeros(n, dtype = int))\n",
    "print(numpy.ones(n, dtype = int))"
   ]
  },
  {
   "cell_type": "code",
   "execution_count": 6,
   "id": "89e80d92",
   "metadata": {},
   "outputs": [
    {
     "name": "stdout",
     "output_type": "stream",
     "text": [
      "1 4\n",
      "1 2 3 4\n",
      "5 6 7 8\n",
      "[[ 6  8 10 12]]\n",
      "[[-4 -4 -4 -4]]\n",
      "[[ 5 12 21 32]]\n",
      "[[0 0 0 0]]\n",
      "[[1 2 3 4]]\n",
      "[[    1    64  2187 65536]]\n"
     ]
    }
   ],
   "source": [
    "#question 6\n",
    "import numpy\n",
    "n , m = map(int,input().split())\n",
    "a = numpy.array([input().split() for _ in range(n)], int)\n",
    "b = numpy.array([input().split() for _ in range(n)], int)\n",
    "print(a+b)\n",
    "print(a-b)\n",
    "print(a*b)\n",
    "print(numpy.array(a/b,int))\n",
    "print(a%b)\n",
    "print(a**b)\n",
    "\n"
   ]
  },
  {
   "cell_type": "code",
   "execution_count": 7,
   "id": "4eb90c8e",
   "metadata": {},
   "outputs": [
    {
     "name": "stdout",
     "output_type": "stream",
     "text": [
      "1.1 2.2 3.3 4.4 5.5 6.6 7.7 8.8 9.9\n",
      "[ 1.  2.  3.  4.  5.  6.  7.  8.  9.]\n",
      "[  2.   3.   4.   5.   6.   7.   8.   9.  10.]\n",
      "[  1.   2.   3.   4.   6.   7.   8.   9.  10.]\n"
     ]
    }
   ],
   "source": [
    "#question 7\n",
    "import numpy\n",
    "numpy.set_printoptions(legacy = '1.13')\n",
    "a = numpy.array(input().split(), float)\n",
    "print(numpy.floor(a))\n",
    "print(numpy.ceil(a))\n",
    "print(numpy.rint(a))\n"
   ]
  },
  {
   "cell_type": "code",
   "execution_count": 8,
   "id": "244d759e",
   "metadata": {},
   "outputs": [
    {
     "name": "stdout",
     "output_type": "stream",
     "text": [
      "3 3\n",
      "[[ 1.  0.  0.]\n",
      " [ 0.  1.  0.]\n",
      " [ 0.  0.  1.]]\n"
     ]
    }
   ],
   "source": [
    "#question 8\n",
    "import numpy\n",
    "numpy.set_printoptions(legacy = '1.13')\n",
    "n , m = map(int,input().split())\n",
    "print(numpy.eye(n,m))\n"
   ]
  },
  {
   "cell_type": "code",
   "execution_count": 9,
   "id": "d5d08cfc",
   "metadata": {},
   "outputs": [
    {
     "name": "stdout",
     "output_type": "stream",
     "text": [
      "2 2 \n",
      "1 2\n",
      "3 4\n",
      "24\n"
     ]
    }
   ],
   "source": [
    "#question 9\n",
    "import numpy\n",
    "n , m = map(int,input().split())\n",
    "my_array = numpy.array([input().split() for _ in range(n)], int)\n",
    "print (numpy.prod(numpy.sum(my_array, axis = 0)))\n"
   ]
  },
  {
   "cell_type": "code",
   "execution_count": 10,
   "id": "72938efc",
   "metadata": {},
   "outputs": [
    {
     "name": "stdout",
     "output_type": "stream",
     "text": [
      "4 2\n",
      "2 5\n",
      "3 7\n",
      "1 3\n",
      "4 0\n",
      "3\n"
     ]
    }
   ],
   "source": [
    "#question 10\n",
    "import numpy\n",
    "n , m = map(int,input().split())\n",
    "my_array = numpy.array([input().split() for _ in range(n)], int)\n",
    "print (numpy.max(numpy.min(my_array, axis = 1)))\n"
   ]
  },
  {
   "cell_type": "code",
   "execution_count": 11,
   "id": "0d3049d9",
   "metadata": {},
   "outputs": [
    {
     "name": "stdout",
     "output_type": "stream",
     "text": [
      "2 2\n",
      "1 2\n",
      "3 4\n",
      "[ 1.5  3.5]\n",
      "[ 1.  1.]\n",
      "1.11803398875\n"
     ]
    }
   ],
   "source": [
    "#question 11\n",
    "import numpy\n",
    "n , m = map(int,input().split())\n",
    "my_array = numpy.array([input().split() for _ in range(n)], int)\n",
    "print(numpy.mean(my_array, axis = 1))\n",
    "print(numpy.var(my_array, axis = 0))\n",
    "std = numpy.std(my_array)\n",
    "rnd = numpy.around(std, 11)\n",
    "print(rnd)\n",
    "\n"
   ]
  },
  {
   "cell_type": "code",
   "execution_count": 12,
   "id": "630472c0",
   "metadata": {},
   "outputs": [
    {
     "name": "stdout",
     "output_type": "stream",
     "text": [
      "2\n",
      "1 2\n",
      "3 4\n",
      "1 2\n",
      "3 4\n",
      "[[ 7 10]\n",
      " [15 22]]\n"
     ]
    }
   ],
   "source": [
    "#question 12\n",
    "import numpy\n",
    "n  = int(input())\n",
    "a = numpy.array([list(map(int,input().split())) for _ in range(n)])\n",
    "b = numpy.array([list(map(int,input().split())) for _ in range(n)])\n",
    "print(numpy.dot(a, b))\n",
    "\n"
   ]
  },
  {
   "cell_type": "code",
   "execution_count": 13,
   "id": "d3035eca",
   "metadata": {},
   "outputs": [
    {
     "name": "stdout",
     "output_type": "stream",
     "text": [
      "0 1\n",
      "2 3\n",
      "3\n",
      "[[0 0]\n",
      " [2 3]]\n"
     ]
    }
   ],
   "source": [
    "#question 13\n",
    "import numpy\n",
    "\n",
    "A = numpy.array(input().split(),int)\n",
    "B = numpy.array(input().split(),int)\n",
    "print(numpy.inner(A, B))\n",
    "print(numpy.outer(A, B))\n",
    "\n"
   ]
  },
  {
   "cell_type": "code",
   "execution_count": 14,
   "id": "0b46931d",
   "metadata": {},
   "outputs": [
    {
     "name": "stdout",
     "output_type": "stream",
     "text": [
      "1.1 2 3\n",
      "0\n",
      "3.0\n"
     ]
    }
   ],
   "source": [
    "#question 14\n",
    "import numpy\n",
    "a = list(map(float,input().split()))\n",
    "n = input()\n",
    "print(numpy.polyval(a,int(n)))\n"
   ]
  },
  {
   "cell_type": "code",
   "execution_count": 15,
   "id": "aa12558b",
   "metadata": {},
   "outputs": [
    {
     "name": "stdout",
     "output_type": "stream",
     "text": [
      "2\n",
      "1.1 1.1\n",
      "1.1 1.1\n",
      "0.0\n"
     ]
    }
   ],
   "source": [
    "#question 15\n",
    "import numpy\n",
    "n = int(input())\n",
    "a = numpy.array(numpy.array([input().split() for _ in range(n)],float))\n",
    "print(numpy.linalg.det(a))\n",
    "\n"
   ]
  },
  {
   "cell_type": "code",
   "execution_count": null,
   "id": "8766ca0d",
   "metadata": {},
   "outputs": [],
   "source": []
  }
 ],
 "metadata": {
  "kernelspec": {
   "display_name": "Python 3",
   "language": "python",
   "name": "python3"
  },
  "language_info": {
   "codemirror_mode": {
    "name": "ipython",
    "version": 3
   },
   "file_extension": ".py",
   "mimetype": "text/x-python",
   "name": "python",
   "nbconvert_exporter": "python",
   "pygments_lexer": "ipython3",
   "version": "3.9.4"
  }
 },
 "nbformat": 4,
 "nbformat_minor": 5
}
